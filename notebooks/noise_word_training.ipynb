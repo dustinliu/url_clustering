{
 "cells": [
  {
   "cell_type": "code",
   "execution_count": 23,
   "metadata": {},
   "outputs": [],
   "source": [
    "import sys\n",
    "from imblearn.over_sampling import SMOTE\n",
    "from sklearn.linear_model import LogisticRegression\n",
    "from sklearn.metrics import average_precision_score, precision_recall_curve\n",
    "from sklearn.model_selection import train_test_split\n",
    "import pandas as pd\n",
    "import qgrid\n",
    "\n",
    "sys.path.append('..')\n",
    "from urlclustering.noise_word import NoiseWordDetector, transform_feature\n",
    "from urlclustering.toolkit.noise_sample import read_sample, sample_columns, sample_feature_columes\n",
    "\n",
    "pd.set_option('display.max_rows', 1000)"
   ]
  },
  {
   "cell_type": "code",
   "execution_count": 29,
   "metadata": {},
   "outputs": [],
   "source": [
    "samples = read_sample('../data/samples_meregs.csv')\n",
    "X, y = transform_feature(samples)"
   ]
  },
  {
   "cell_type": "code",
   "execution_count": 30,
   "metadata": {},
   "outputs": [],
   "source": [
    "samples_test = read_sample('../data/samples.csv')\n",
    "X_test, y_test = transform_feature(samples_test)"
   ]
  },
  {
   "cell_type": "code",
   "execution_count": 6,
   "metadata": {},
   "outputs": [],
   "source": [
    "samples_all = pd.concat([samples, samples_test])\n",
    "X_train, y_train = transform_feature(samples_all)"
   ]
  },
  {
   "cell_type": "code",
   "execution_count": 31,
   "metadata": {},
   "outputs": [],
   "source": [
    "sm = SMOTE(random_state=42)\n",
    "X_train, y_train = sm.fit_resample(X, y)"
   ]
  },
  {
   "cell_type": "code",
   "execution_count": 8,
   "metadata": {},
   "outputs": [],
   "source": [
    "X_train, X_test, y_train, y_test = train_test_split(X_train, y_train, test_size=0.25)\n",
    "#samples_test = pd.DataFrame(X_test, columns=NoiseWordDetector.columns)"
   ]
  },
  {
   "cell_type": "code",
   "execution_count": 32,
   "metadata": {},
   "outputs": [],
   "source": [
    "detector = NoiseWordDetector()\n",
    "detector.fit(X_train, y_train)"
   ]
  },
  {
   "cell_type": "code",
   "execution_count": 33,
   "metadata": {},
   "outputs": [],
   "source": [
    "y_score = detector.predict(X_test)\n",
    "average_precision = average_precision_score(y_test, y_score)\n",
    "precision, recall, threshold = precision_recall_curve(y_test, y_score)"
   ]
  },
  {
   "cell_type": "code",
   "execution_count": 34,
   "metadata": {},
   "outputs": [],
   "source": [
    "samples_test['y_score'] = y_score"
   ]
  },
  {
   "cell_type": "code",
   "execution_count": 35,
   "metadata": {},
   "outputs": [
    {
     "name": "stdout",
     "output_type": "stream",
     "text": [
      "threshold    [1. 0.]\n",
      "precision    [0.99999716 1.        ]\n",
      "recall       [1. 0.]\n"
     ]
    }
   ],
   "source": [
    "print(f'{\"threshold\":<12} {recall}')\n",
    "print(f'{\"precision\":<12} {precision}')\n",
    "print(f'{\"recall\":<12} {recall}')"
   ]
  },
  {
   "cell_type": "code",
   "execution_count": 39,
   "metadata": {
    "collapsed": true
   },
   "outputs": [
    {
     "data": {
      "application/vnd.jupyter.widget-view+json": {
       "model_id": "077ad8122f644962b199c85ead9cc534",
       "version_major": 2,
       "version_minor": 0
      },
      "text/plain": [
       "QgridWidget(grid_options={'fullWidthRows': True, 'syncColumnCellResize': True, 'forceFitColumns': True, 'defau…"
      ]
     },
     "metadata": {},
     "output_type": "display_data"
    }
   ],
   "source": [
    "qgrid.show_grid(samples_test.loc[(samples_test.label == False) & (samples_test.y_score == False), ['word', 'url'] + sample_feature_columes + ['label','y_score']])"
   ]
  },
  {
   "cell_type": "code",
   "execution_count": 47,
   "metadata": {},
   "outputs": [
    {
     "data": {
      "application/vnd.jupyter.widget-view+json": {
       "model_id": "34f7e1c098d94fbb9c959e7de36444a0",
       "version_major": 2,
       "version_minor": 0
      },
      "text/plain": [
       "QgridWidget(grid_options={'fullWidthRows': True, 'syncColumnCellResize': True, 'forceFitColumns': True, 'defau…"
      ]
     },
     "metadata": {},
     "output_type": "display_data"
    }
   ],
   "source": [
    "qgrid.show_grid(samples_test.loc[samples_test.label != samples_test.y_score, ['word'] + sample_feature_columes + ['label','y_score']])"
   ]
  },
  {
   "cell_type": "code",
   "execution_count": null,
   "metadata": {},
   "outputs": [],
   "source": [
    "samples_test[samples_test.label != samples_test.y_score]"
   ]
  }
 ],
 "metadata": {
  "kernelspec": {
   "display_name": "urlclustering",
   "language": "python",
   "name": "urlclustering"
  },
  "language_info": {
   "codemirror_mode": {
    "name": "ipython",
    "version": 3
   },
   "file_extension": ".py",
   "mimetype": "text/x-python",
   "name": "python",
   "nbconvert_exporter": "python",
   "pygments_lexer": "ipython3",
   "version": "3.7.2"
  }
 },
 "nbformat": 4,
 "nbformat_minor": 2
}
