{
 "cells": [
  {
   "cell_type": "code",
   "execution_count": 5,
   "metadata": {},
   "outputs": [
    {
     "name": "stdout",
     "output_type": "stream",
     "text": [
      "2\n",
      "0\n"
     ]
    }
   ],
   "source": [
    "from collections import defaultdict\n",
    "dict_ = defaultdict(int)\n",
    "\n",
    "dict_['a'] += 1\n",
    "dict_['a'] += 1\n",
    "\n",
    "print(dict_['a'])\n",
    "print(dict_['b'])"
   ]
  },
  {
   "cell_type": "code",
   "execution_count": 8,
   "metadata": {},
   "outputs": [
    {
     "data": {
      "text/plain": [
       "array([[1, 2, 3, 4],\n",
       "       [5, 6, 7, 8]], dtype=int64)"
      ]
     },
     "execution_count": 8,
     "metadata": {},
     "output_type": "execute_result"
    }
   ],
   "source": [
    "import numpy as np\n",
    "import scipy.sparse as sp\n",
    "\n",
    "a = sp.csr_matrix(np.array([[1, 2, 3, 4], [5, 6, 7, 8]]))\n",
    "b= sp.csr_matrix(np.array([2, 1, 2, 1]))\n",
    "a.multiply([1, 1, 1, 1]).toarray()"
   ]
  },
  {
   "cell_type": "code",
   "execution_count": 7,
   "metadata": {},
   "outputs": [
    {
     "data": {
      "text/plain": [
       "array([[1, 3, 4]], dtype=int64)"
      ]
     },
     "execution_count": 7,
     "metadata": {},
     "output_type": "execute_result"
    }
   ],
   "source": [
    "z = sp.csr_matrix([1,3,4])\n",
    "z.toarray()"
   ]
  },
  {
   "cell_type": "code",
   "execution_count": 11,
   "metadata": {},
   "outputs": [
    {
     "name": "stdout",
     "output_type": "stream",
     "text": [
      "<class 'dict_keys'>\n"
     ]
    }
   ],
   "source": [
    "g = {'a': 1}\n",
    "print(type(g.keys()))"
   ]
  },
  {
   "cell_type": "code",
   "execution_count": 15,
   "metadata": {},
   "outputs": [
    {
     "data": {
      "text/plain": [
       "[('a', 3), ('v', 94), ('b', 100)]"
      ]
     },
     "execution_count": 15,
     "metadata": {},
     "output_type": "execute_result"
    }
   ],
   "source": [
    "g = {'a': 3, 'b': 100, 'v': 94}\n",
    "items = g.items()\n",
    "sorted(items, key=lambda x: x[1])"
   ]
  },
  {
   "cell_type": "code",
   "execution_count": 60,
   "metadata": {},
   "outputs": [
    {
     "name": "stdout",
     "output_type": "stream",
     "text": [
      "[[120 121 122]\n",
      " [108 109 110]\n",
      " [ 84  85  86]\n",
      " [174 175 176]\n",
      " [183 184 185]\n",
      " [ 30  31  32]\n",
      " [150 151 152]\n",
      " [102 103 104]]\n",
      "[[ 24  25  26]\n",
      " [171 172 173]\n",
      " [ 66  67  68]\n",
      " [ 78  79  80]\n",
      " [ 39  40  41]\n",
      " [117 118 119]\n",
      " [ 75  76  77]\n",
      " [ 81  82  83]]\n",
      "[[  3   4   5]\n",
      " [  0   1   2]\n",
      " [114 115 116]\n",
      " [ 21  22  23]\n",
      " [153 154 155]\n",
      " [ 51  52  53]\n",
      " [141 142 143]]\n",
      "[[135 136 137]\n",
      " [105 106 107]\n",
      " [ 96  97  98]\n",
      " [177 178 179]\n",
      " [ 27  28  29]\n",
      " [ 57  58  59]\n",
      " [147 148 149]]\n",
      "[[ 72  73  74]\n",
      " [ 45  46  47]\n",
      " [ 12  13  14]\n",
      " [ 93  94  95]\n",
      " [156 157 158]\n",
      " [165 166 167]\n",
      " [126 127 128]]\n",
      "[[ 42  43  44]\n",
      " [144 145 146]\n",
      " [ 15  16  17]\n",
      " [123 124 125]\n",
      " [  6   7   8]\n",
      " [ 33  34  35]\n",
      " [ 18  19  20]]\n",
      "[[ 60  61  62]\n",
      " [ 87  88  89]\n",
      " [ 54  55  56]\n",
      " [ 99 100 101]\n",
      " [ 90  91  92]\n",
      " [162 163 164]\n",
      " [129 130 131]]\n",
      "[[159 160 161]\n",
      " [192 193 194]\n",
      " [189 190 191]\n",
      " [ 69  70  71]\n",
      " [186 187 188]\n",
      " [  9  10  11]\n",
      " [132 133 134]]\n",
      "[[ 63  64  65]\n",
      " [138 139 140]\n",
      " [180 181 182]\n",
      " [ 36  37  38]\n",
      " [168 169 170]\n",
      " [111 112 113]\n",
      " [ 48  49  50]]\n"
     ]
    }
   ],
   "source": [
    "import numpy as np\n",
    "import scipy.sparse as sp\n",
    "\n",
    "step = 7\n",
    "b = np.arange(195)\n",
    "b = sp.csr_matrix(np.reshape(b, newshape=(65, 3)))\n",
    "#print(b.toarray())\n",
    "len_ = b.shape[0]\n",
    "indices = np.arange(len_)\n",
    "np.random.shuffle(indices)\n",
    "\n",
    "g = np.array_split(indices, len_/step)\n",
    "\n",
    "for gg in g:\n",
    "    print(b[gg].toarray())"
   ]
  }
 ],
 "metadata": {
  "kernelspec": {
   "display_name": "Python 3",
   "language": "python",
   "name": "python3"
  },
  "language_info": {
   "codemirror_mode": {
    "name": "ipython",
    "version": 3
   },
   "file_extension": ".py",
   "mimetype": "text/x-python",
   "name": "python",
   "nbconvert_exporter": "python",
   "pygments_lexer": "ipython3",
   "version": "3.7.2"
  }
 },
 "nbformat": 4,
 "nbformat_minor": 2
}
